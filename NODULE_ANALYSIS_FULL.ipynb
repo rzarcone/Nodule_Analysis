{
 "cells": [
  {
   "cell_type": "code",
   "execution_count": 1,
   "metadata": {
    "collapsed": true
   },
   "outputs": [],
   "source": [
    "import math\n",
    "import numpy as np\n",
    "import matplotlib.pyplot as plt\n",
    "from scipy.stats import mode\n",
    "\n",
    "%matplotlib inline  "
   ]
  },
  {
   "cell_type": "code",
   "execution_count": 2,
   "metadata": {
    "collapsed": true
   },
   "outputs": [],
   "source": [
    "def pixel_extractor(file_name):\n",
    "    with open(file_name) as f:\n",
    "        content = f.readlines()\n",
    "    content_strip = [x.strip() for x in content]\n",
    "    nod_name = content_strip[0]\n",
    "    content_strip_points = content_strip[1:]\n",
    "    points_pix = [x.split('\\t' ) for x in content_strip_points]\n",
    "    points_pix = np.array(points_pix)\n",
    "    return points_pix, nod_name"
   ]
  },
  {
   "cell_type": "code",
   "execution_count": 3,
   "metadata": {
    "collapsed": true
   },
   "outputs": [],
   "source": [
    "def pixel_plotter(points_array):\n",
    "    \n",
    "    fig_1 = plt.figure(1)\n",
    "    ax1 = fig_1.add_subplot(111)\n",
    "    ax1.set_aspect('equal')\n",
    "    plt.scatter(points_array[:,1],points_array[:,0])\n",
    "    plt.savefig('nodule_points')\n",
    "    \n",
    "    int_points_x = [int(i) for i in points_array[:,0]]\n",
    "    min_x = np.amin(int_points_x)\n",
    "    int_points_x = int_points_x - min_x\n",
    "    int_points_y = [int(i) for i in points_array[:,1]]\n",
    "    min_y = np.amin(int_points_y)\n",
    "    int_points_y = int_points_y - min_y\n",
    "    matrix = np.zeros((np.amax(int_points_x)+1,np.amax(int_points_y)+1))\n",
    "    int_points_x = int_points_x[:,None]\n",
    "    int_points_y = int_points_y[:,None]\n",
    "    new_points = np.hstack((int_points_x,int_points_y))\n",
    "    i = 0\n",
    "    for vals in new_points:\n",
    "        x = vals[0]\n",
    "        y = vals[1]\n",
    "        matrix[x,y] = float(points_array[i][2])\n",
    "        i+=1\n",
    "        \n",
    "    fig_2 = plt.figure(2)\n",
    "    ax2 = fig_2.add_subplot(111)\n",
    "    ax2.set_aspect('equal')\n",
    "    plt.imshow(matrix,origin='lower', interpolation='none')\n",
    "    plt.savefig('pixel_values')"
   ]
  },
  {
   "cell_type": "code",
   "execution_count": 4,
   "metadata": {
    "collapsed": false
   },
   "outputs": [],
   "source": [
    "def recist_calc(points_array):\n",
    "    int_points_x = [int(i) for i in points_array[:,0]]\n",
    "    min_x = np.amin(int_points_x)\n",
    "    int_points_x = int_points_x - min_x\n",
    "    int_points_y = [int(i) for i in points_array[:,1]]\n",
    "    min_y = np.amin(int_points_y)\n",
    "    int_points_y = int_points_y - min_y\n",
    "    x_diff_array = int_points_x[:,None] - np.transpose(int_points_x[:,None])\n",
    "    y_diff_array = int_points_y[:,None] - np.transpose(int_points_y[:,None])\n",
    "    recist_diam = np.sqrt(x_diff_array**2+y_diff_array**2)\n",
    "    max_diam = np.amax(recist_diam)\n",
    "    recist_indx = np.unravel_index(np.argmax(recist_diam),recist_diam.shape)\n",
    "    matrix = np.zeros((np.amax(int_points_x)+1,np.amax(int_points_y)+1))\n",
    "    int_points_x = int_points_x[:,None]\n",
    "    int_points_y = int_points_y[:,None]\n",
    "    new_points = np.hstack((int_points_x,int_points_y))\n",
    "    i = 0\n",
    "    for vals in new_points:\n",
    "        x = vals[0]\n",
    "        y = vals[1]\n",
    "        matrix[x,y] = 1.0\n",
    "        i+=1\n",
    "    xs = [int_points_x[recist_indx[0]][0],int_points_x[recist_indx[1]][0]]\n",
    "    ys = [int_points_y[recist_indx[0]][0],int_points_y[recist_indx[1]][0]]\n",
    "    plt.figure()\n",
    "    plt.plot(ys,xs, color='red')\n",
    "    plt.imshow(matrix,origin='lower', interpolation='none')\n",
    "    plt.title('Recist Diameter: '+str(round(max_diam,2)))\n",
    "    plt.savefig('recist_diameter')\n",
    "    return max_diam"
   ]
  },
  {
   "cell_type": "code",
   "execution_count": 5,
   "metadata": {
    "collapsed": false
   },
   "outputs": [],
   "source": [
    "points_array_test, nod_name = pixel_extractor('Finished_Nodules/CA_3000514/1Slices/Pixels/3slice_pixels.txt')"
   ]
  },
  {
   "cell_type": "code",
   "execution_count": 6,
   "metadata": {
    "collapsed": false
   },
   "outputs": [
    {
     "data": {
      "image/png": "[encoded data removed]",
      "text/plain": [
       "<matplotlib.figure.Figure at 0x10d0a1278>"
      ]
     },
     "metadata": {},
     "output_type": "display_data"
    },
    {
     "data": {
      "image/png": "[encoded data removed]",
      "text/plain": [
       "<matplotlib.figure.Figure at 0x10f934fd0>"
      ]
     },
     "metadata": {},
     "output_type": "display_data"
    }
   ],
   "source": [
    "pixel_plotter(points_array_test)"
   ]
  },
  {
   "cell_type": "code",
   "execution_count": 7,
   "metadata": {
    "collapsed": false
   },
   "outputs": [
    {
     "data": {
      "image/png": "[encoded data removed]",
      "text/plain": [
       "<matplotlib.figure.Figure at 0x10f9d6ba8>"
      ]
     },
     "metadata": {},
     "output_type": "display_data"
    }
   ],
   "source": [
    "max_diam = recist_calc(points_array_test)"
   ]
  },
  {
   "cell_type": "code",
   "execution_count": null,
   "metadata": {
    "collapsed": true
   },
   "outputs": [],
   "source": []
  }
 ],
 "metadata": {
  "kernelspec": {
   "display_name": "Python 3",
   "language": "python",
   "name": "python3"
  },
  "language_info": {
   "codemirror_mode": {
    "name": "ipython",
    "version": 3
   },
   "file_extension": ".py",
   "mimetype": "text/x-python",
   "name": "python",
   "nbconvert_exporter": "python",
   "pygments_lexer": "ipython3",
   "version": "3.5.2"
  }
 },
 "nbformat": 4,
 "nbformat_minor": 1
}
